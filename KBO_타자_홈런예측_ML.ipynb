{
  "nbformat": 4,
  "nbformat_minor": 0,
  "metadata": {
    "colab": {
      "provenance": [],
      "authorship_tag": "ABX9TyN8XUL8r5p1z+1zrmroynYk",
      "include_colab_link": true
    },
    "kernelspec": {
      "name": "python3",
      "display_name": "Python 3"
    },
    "language_info": {
      "name": "python"
    }
  },
  "cells": [
    {
      "cell_type": "markdown",
      "metadata": {
        "id": "view-in-github",
        "colab_type": "text"
      },
      "source": [
        "<a href=\"https://colab.research.google.com/github/766O/Baseballdata_MLproject/blob/main/KBO_%ED%83%80%EC%9E%90_%ED%99%88%EB%9F%B0%EC%98%88%EC%B8%A1_ML.ipynb\" target=\"_parent\"><img src=\"https://colab.research.google.com/assets/colab-badge.svg\" alt=\"Open In Colab\"/></a>"
      ]
    },
    {
      "cell_type": "code",
      "execution_count": 38,
      "metadata": {
        "id": "YEvw4JV9j-gj"
      },
      "outputs": [],
      "source": [
        "import pandas as pd\n",
        "import numpy as np\n"
      ]
    },
    {
      "cell_type": "markdown",
      "source": [
        "#**EDA & Feature Engineering**"
      ],
      "metadata": {
        "id": "fI1gJiydlyRY"
      }
    },
    {
      "cell_type": "code",
      "source": [
        "X = pd.DataFrame(pd.read_csv('2016-2021_data.csv',engine='python',encoding='CP949'))\n",
        "Y = pd.DataFrame(pd.read_csv('2022_data.csv',engine='python',encoding='CP949'))\n",
        "\n",
        "X.head()\n",
        "Y.head()"
      ],
      "metadata": {
        "colab": {
          "base_uri": "https://localhost:8080/",
          "height": 384
        },
        "id": "MJfKhih7kNLq",
        "outputId": "65e9e7af-6c85-4a36-8f18-211b0e096c91"
      },
      "execution_count": 39,
      "outputs": [
        {
          "output_type": "execute_result",
          "data": {
            "text/plain": [
              "     Year  선수명   팀명    AVG    G   PA   AB    R    H  2B  ...  XBH   GO   AO  \\\n",
              "0    2022  이정후   키움  0.349  142  627  553   85  193  36  ...   69  154  177   \n",
              "1    2022  피렐라   삼성  0.342  141  630  561  102  192  33  ...   65  149  141   \n",
              "2    2022  박건우   NC  0.336  111  463  408   52  137  18  ...   29  100  112   \n",
              "3    2022  이대호   롯데  0.331  142  591  540   53  179  23  ...   46  150  161   \n",
              "4    2022  나성범  KIA  0.320  144  649  563   92  180  39  ...   62  117  134   \n",
              "\n",
              "   GO/AO  GW RBI  BB/K  P/PA   ISOP     XR    GPA  \n",
              "0   0.87      15  2.06  3.69  0.226  120.2  0.333  \n",
              "1   1.06      12  0.68  3.45  0.223  114.4  0.326  \n",
              "2   0.89       7  0.71  3.87  0.123   72.1  0.298  \n",
              "3   0.93       9  0.77  3.58  0.170   90.5  0.296  \n",
              "4   0.87       9  0.47  3.75  0.188  110.9  0.308  \n",
              "\n",
              "[5 rows x 26 columns]"
            ],
            "text/html": [
              "\n",
              "  <div id=\"df-fa2d300e-d72d-488e-a7f8-88c8da447c92\">\n",
              "    <div class=\"colab-df-container\">\n",
              "      <div>\n",
              "<style scoped>\n",
              "    .dataframe tbody tr th:only-of-type {\n",
              "        vertical-align: middle;\n",
              "    }\n",
              "\n",
              "    .dataframe tbody tr th {\n",
              "        vertical-align: top;\n",
              "    }\n",
              "\n",
              "    .dataframe thead th {\n",
              "        text-align: right;\n",
              "    }\n",
              "</style>\n",
              "<table border=\"1\" class=\"dataframe\">\n",
              "  <thead>\n",
              "    <tr style=\"text-align: right;\">\n",
              "      <th></th>\n",
              "      <th>Year</th>\n",
              "      <th>선수명</th>\n",
              "      <th>팀명</th>\n",
              "      <th>AVG</th>\n",
              "      <th>G</th>\n",
              "      <th>PA</th>\n",
              "      <th>AB</th>\n",
              "      <th>R</th>\n",
              "      <th>H</th>\n",
              "      <th>2B</th>\n",
              "      <th>...</th>\n",
              "      <th>XBH</th>\n",
              "      <th>GO</th>\n",
              "      <th>AO</th>\n",
              "      <th>GO/AO</th>\n",
              "      <th>GW RBI</th>\n",
              "      <th>BB/K</th>\n",
              "      <th>P/PA</th>\n",
              "      <th>ISOP</th>\n",
              "      <th>XR</th>\n",
              "      <th>GPA</th>\n",
              "    </tr>\n",
              "  </thead>\n",
              "  <tbody>\n",
              "    <tr>\n",
              "      <th>0</th>\n",
              "      <td>2022</td>\n",
              "      <td>이정후</td>\n",
              "      <td>키움</td>\n",
              "      <td>0.349</td>\n",
              "      <td>142</td>\n",
              "      <td>627</td>\n",
              "      <td>553</td>\n",
              "      <td>85</td>\n",
              "      <td>193</td>\n",
              "      <td>36</td>\n",
              "      <td>...</td>\n",
              "      <td>69</td>\n",
              "      <td>154</td>\n",
              "      <td>177</td>\n",
              "      <td>0.87</td>\n",
              "      <td>15</td>\n",
              "      <td>2.06</td>\n",
              "      <td>3.69</td>\n",
              "      <td>0.226</td>\n",
              "      <td>120.2</td>\n",
              "      <td>0.333</td>\n",
              "    </tr>\n",
              "    <tr>\n",
              "      <th>1</th>\n",
              "      <td>2022</td>\n",
              "      <td>피렐라</td>\n",
              "      <td>삼성</td>\n",
              "      <td>0.342</td>\n",
              "      <td>141</td>\n",
              "      <td>630</td>\n",
              "      <td>561</td>\n",
              "      <td>102</td>\n",
              "      <td>192</td>\n",
              "      <td>33</td>\n",
              "      <td>...</td>\n",
              "      <td>65</td>\n",
              "      <td>149</td>\n",
              "      <td>141</td>\n",
              "      <td>1.06</td>\n",
              "      <td>12</td>\n",
              "      <td>0.68</td>\n",
              "      <td>3.45</td>\n",
              "      <td>0.223</td>\n",
              "      <td>114.4</td>\n",
              "      <td>0.326</td>\n",
              "    </tr>\n",
              "    <tr>\n",
              "      <th>2</th>\n",
              "      <td>2022</td>\n",
              "      <td>박건우</td>\n",
              "      <td>NC</td>\n",
              "      <td>0.336</td>\n",
              "      <td>111</td>\n",
              "      <td>463</td>\n",
              "      <td>408</td>\n",
              "      <td>52</td>\n",
              "      <td>137</td>\n",
              "      <td>18</td>\n",
              "      <td>...</td>\n",
              "      <td>29</td>\n",
              "      <td>100</td>\n",
              "      <td>112</td>\n",
              "      <td>0.89</td>\n",
              "      <td>7</td>\n",
              "      <td>0.71</td>\n",
              "      <td>3.87</td>\n",
              "      <td>0.123</td>\n",
              "      <td>72.1</td>\n",
              "      <td>0.298</td>\n",
              "    </tr>\n",
              "    <tr>\n",
              "      <th>3</th>\n",
              "      <td>2022</td>\n",
              "      <td>이대호</td>\n",
              "      <td>롯데</td>\n",
              "      <td>0.331</td>\n",
              "      <td>142</td>\n",
              "      <td>591</td>\n",
              "      <td>540</td>\n",
              "      <td>53</td>\n",
              "      <td>179</td>\n",
              "      <td>23</td>\n",
              "      <td>...</td>\n",
              "      <td>46</td>\n",
              "      <td>150</td>\n",
              "      <td>161</td>\n",
              "      <td>0.93</td>\n",
              "      <td>9</td>\n",
              "      <td>0.77</td>\n",
              "      <td>3.58</td>\n",
              "      <td>0.170</td>\n",
              "      <td>90.5</td>\n",
              "      <td>0.296</td>\n",
              "    </tr>\n",
              "    <tr>\n",
              "      <th>4</th>\n",
              "      <td>2022</td>\n",
              "      <td>나성범</td>\n",
              "      <td>KIA</td>\n",
              "      <td>0.320</td>\n",
              "      <td>144</td>\n",
              "      <td>649</td>\n",
              "      <td>563</td>\n",
              "      <td>92</td>\n",
              "      <td>180</td>\n",
              "      <td>39</td>\n",
              "      <td>...</td>\n",
              "      <td>62</td>\n",
              "      <td>117</td>\n",
              "      <td>134</td>\n",
              "      <td>0.87</td>\n",
              "      <td>9</td>\n",
              "      <td>0.47</td>\n",
              "      <td>3.75</td>\n",
              "      <td>0.188</td>\n",
              "      <td>110.9</td>\n",
              "      <td>0.308</td>\n",
              "    </tr>\n",
              "  </tbody>\n",
              "</table>\n",
              "<p>5 rows × 26 columns</p>\n",
              "</div>\n",
              "      <button class=\"colab-df-convert\" onclick=\"convertToInteractive('df-fa2d300e-d72d-488e-a7f8-88c8da447c92')\"\n",
              "              title=\"Convert this dataframe to an interactive table.\"\n",
              "              style=\"display:none;\">\n",
              "        \n",
              "  <svg xmlns=\"http://www.w3.org/2000/svg\" height=\"24px\"viewBox=\"0 0 24 24\"\n",
              "       width=\"24px\">\n",
              "    <path d=\"M0 0h24v24H0V0z\" fill=\"none\"/>\n",
              "    <path d=\"M18.56 5.44l.94 2.06.94-2.06 2.06-.94-2.06-.94-.94-2.06-.94 2.06-2.06.94zm-11 1L8.5 8.5l.94-2.06 2.06-.94-2.06-.94L8.5 2.5l-.94 2.06-2.06.94zm10 10l.94 2.06.94-2.06 2.06-.94-2.06-.94-.94-2.06-.94 2.06-2.06.94z\"/><path d=\"M17.41 7.96l-1.37-1.37c-.4-.4-.92-.59-1.43-.59-.52 0-1.04.2-1.43.59L10.3 9.45l-7.72 7.72c-.78.78-.78 2.05 0 2.83L4 21.41c.39.39.9.59 1.41.59.51 0 1.02-.2 1.41-.59l7.78-7.78 2.81-2.81c.8-.78.8-2.07 0-2.86zM5.41 20L4 18.59l7.72-7.72 1.47 1.35L5.41 20z\"/>\n",
              "  </svg>\n",
              "      </button>\n",
              "      \n",
              "  <style>\n",
              "    .colab-df-container {\n",
              "      display:flex;\n",
              "      flex-wrap:wrap;\n",
              "      gap: 12px;\n",
              "    }\n",
              "\n",
              "    .colab-df-convert {\n",
              "      background-color: #E8F0FE;\n",
              "      border: none;\n",
              "      border-radius: 50%;\n",
              "      cursor: pointer;\n",
              "      display: none;\n",
              "      fill: #1967D2;\n",
              "      height: 32px;\n",
              "      padding: 0 0 0 0;\n",
              "      width: 32px;\n",
              "    }\n",
              "\n",
              "    .colab-df-convert:hover {\n",
              "      background-color: #E2EBFA;\n",
              "      box-shadow: 0px 1px 2px rgba(60, 64, 67, 0.3), 0px 1px 3px 1px rgba(60, 64, 67, 0.15);\n",
              "      fill: #174EA6;\n",
              "    }\n",
              "\n",
              "    [theme=dark] .colab-df-convert {\n",
              "      background-color: #3B4455;\n",
              "      fill: #D2E3FC;\n",
              "    }\n",
              "\n",
              "    [theme=dark] .colab-df-convert:hover {\n",
              "      background-color: #434B5C;\n",
              "      box-shadow: 0px 1px 3px 1px rgba(0, 0, 0, 0.15);\n",
              "      filter: drop-shadow(0px 1px 2px rgba(0, 0, 0, 0.3));\n",
              "      fill: #FFFFFF;\n",
              "    }\n",
              "  </style>\n",
              "\n",
              "      <script>\n",
              "        const buttonEl =\n",
              "          document.querySelector('#df-fa2d300e-d72d-488e-a7f8-88c8da447c92 button.colab-df-convert');\n",
              "        buttonEl.style.display =\n",
              "          google.colab.kernel.accessAllowed ? 'block' : 'none';\n",
              "\n",
              "        async function convertToInteractive(key) {\n",
              "          const element = document.querySelector('#df-fa2d300e-d72d-488e-a7f8-88c8da447c92');\n",
              "          const dataTable =\n",
              "            await google.colab.kernel.invokeFunction('convertToInteractive',\n",
              "                                                     [key], {});\n",
              "          if (!dataTable) return;\n",
              "\n",
              "          const docLinkHtml = 'Like what you see? Visit the ' +\n",
              "            '<a target=\"_blank\" href=https://colab.research.google.com/notebooks/data_table.ipynb>data table notebook</a>'\n",
              "            + ' to learn more about interactive tables.';\n",
              "          element.innerHTML = '';\n",
              "          dataTable['output_type'] = 'display_data';\n",
              "          await google.colab.output.renderOutput(dataTable, element);\n",
              "          const docLink = document.createElement('div');\n",
              "          docLink.innerHTML = docLinkHtml;\n",
              "          element.appendChild(docLink);\n",
              "        }\n",
              "      </script>\n",
              "    </div>\n",
              "  </div>\n",
              "  "
            ]
          },
          "metadata": {},
          "execution_count": 39
        }
      ]
    },
    {
      "cell_type": "code",
      "source": [
        "#홈런개수 분석시 불필요한 데이터 제외 \n",
        "\n",
        "X=X.drop(['선수명','팀명','Year'],axis=1)\n",
        "X.head()\n"
      ],
      "metadata": {
        "colab": {
          "base_uri": "https://localhost:8080/",
          "height": 279
        },
        "id": "Pju0Rm7d31gS",
        "outputId": "dc667575-6fc3-431c-84ad-5c2209e12fa2"
      },
      "execution_count": 40,
      "outputs": [
        {
          "output_type": "execute_result",
          "data": {
            "text/plain": [
              "     AVG    G   PA   AB   R    H  2B  3B  HR   TB  ...  XBH   GO   AO  GO/AO  \\\n",
              "0  0.376  138  618  519  99  195  46   2  31  338  ...   79  108  140   0.77   \n",
              "1  0.365  144  652  529  94  193  39   0  23  301  ...   62  113  132   0.86   \n",
              "2  0.352  113  530  452  98  159  20   4   3  196  ...   27  139  126   1.10   \n",
              "3  0.346  130  555  511  97  177  37   3  23  289  ...   63  137  135   1.01   \n",
              "4  0.346  138  578  509  84  176  24   0  11  233  ...   35  145  124   1.17   \n",
              "\n",
              "   GW RBI  BB/K  P/PA   ISOP     XR    GPA  \n",
              "0       9  1.00  3.94  0.276  136.4  0.372  \n",
              "1      11  1.11  4.25  0.204  132.9  0.356  \n",
              "2       1  2.17  4.13  0.082   84.3  0.306  \n",
              "3      12  0.44  3.56  0.219   98.6  0.315  \n",
              "4      10  0.82  3.89  0.112   90.7  0.300  \n",
              "\n",
              "[5 rows x 23 columns]"
            ],
            "text/html": [
              "\n",
              "  <div id=\"df-5304eff4-c374-4de7-a7ad-429c3b143313\">\n",
              "    <div class=\"colab-df-container\">\n",
              "      <div>\n",
              "<style scoped>\n",
              "    .dataframe tbody tr th:only-of-type {\n",
              "        vertical-align: middle;\n",
              "    }\n",
              "\n",
              "    .dataframe tbody tr th {\n",
              "        vertical-align: top;\n",
              "    }\n",
              "\n",
              "    .dataframe thead th {\n",
              "        text-align: right;\n",
              "    }\n",
              "</style>\n",
              "<table border=\"1\" class=\"dataframe\">\n",
              "  <thead>\n",
              "    <tr style=\"text-align: right;\">\n",
              "      <th></th>\n",
              "      <th>AVG</th>\n",
              "      <th>G</th>\n",
              "      <th>PA</th>\n",
              "      <th>AB</th>\n",
              "      <th>R</th>\n",
              "      <th>H</th>\n",
              "      <th>2B</th>\n",
              "      <th>3B</th>\n",
              "      <th>HR</th>\n",
              "      <th>TB</th>\n",
              "      <th>...</th>\n",
              "      <th>XBH</th>\n",
              "      <th>GO</th>\n",
              "      <th>AO</th>\n",
              "      <th>GO/AO</th>\n",
              "      <th>GW RBI</th>\n",
              "      <th>BB/K</th>\n",
              "      <th>P/PA</th>\n",
              "      <th>ISOP</th>\n",
              "      <th>XR</th>\n",
              "      <th>GPA</th>\n",
              "    </tr>\n",
              "  </thead>\n",
              "  <tbody>\n",
              "    <tr>\n",
              "      <th>0</th>\n",
              "      <td>0.376</td>\n",
              "      <td>138</td>\n",
              "      <td>618</td>\n",
              "      <td>519</td>\n",
              "      <td>99</td>\n",
              "      <td>195</td>\n",
              "      <td>46</td>\n",
              "      <td>2</td>\n",
              "      <td>31</td>\n",
              "      <td>338</td>\n",
              "      <td>...</td>\n",
              "      <td>79</td>\n",
              "      <td>108</td>\n",
              "      <td>140</td>\n",
              "      <td>0.77</td>\n",
              "      <td>9</td>\n",
              "      <td>1.00</td>\n",
              "      <td>3.94</td>\n",
              "      <td>0.276</td>\n",
              "      <td>136.4</td>\n",
              "      <td>0.372</td>\n",
              "    </tr>\n",
              "    <tr>\n",
              "      <th>1</th>\n",
              "      <td>0.365</td>\n",
              "      <td>144</td>\n",
              "      <td>652</td>\n",
              "      <td>529</td>\n",
              "      <td>94</td>\n",
              "      <td>193</td>\n",
              "      <td>39</td>\n",
              "      <td>0</td>\n",
              "      <td>23</td>\n",
              "      <td>301</td>\n",
              "      <td>...</td>\n",
              "      <td>62</td>\n",
              "      <td>113</td>\n",
              "      <td>132</td>\n",
              "      <td>0.86</td>\n",
              "      <td>11</td>\n",
              "      <td>1.11</td>\n",
              "      <td>4.25</td>\n",
              "      <td>0.204</td>\n",
              "      <td>132.9</td>\n",
              "      <td>0.356</td>\n",
              "    </tr>\n",
              "    <tr>\n",
              "      <th>2</th>\n",
              "      <td>0.352</td>\n",
              "      <td>113</td>\n",
              "      <td>530</td>\n",
              "      <td>452</td>\n",
              "      <td>98</td>\n",
              "      <td>159</td>\n",
              "      <td>20</td>\n",
              "      <td>4</td>\n",
              "      <td>3</td>\n",
              "      <td>196</td>\n",
              "      <td>...</td>\n",
              "      <td>27</td>\n",
              "      <td>139</td>\n",
              "      <td>126</td>\n",
              "      <td>1.10</td>\n",
              "      <td>1</td>\n",
              "      <td>2.17</td>\n",
              "      <td>4.13</td>\n",
              "      <td>0.082</td>\n",
              "      <td>84.3</td>\n",
              "      <td>0.306</td>\n",
              "    </tr>\n",
              "    <tr>\n",
              "      <th>3</th>\n",
              "      <td>0.346</td>\n",
              "      <td>130</td>\n",
              "      <td>555</td>\n",
              "      <td>511</td>\n",
              "      <td>97</td>\n",
              "      <td>177</td>\n",
              "      <td>37</td>\n",
              "      <td>3</td>\n",
              "      <td>23</td>\n",
              "      <td>289</td>\n",
              "      <td>...</td>\n",
              "      <td>63</td>\n",
              "      <td>137</td>\n",
              "      <td>135</td>\n",
              "      <td>1.01</td>\n",
              "      <td>12</td>\n",
              "      <td>0.44</td>\n",
              "      <td>3.56</td>\n",
              "      <td>0.219</td>\n",
              "      <td>98.6</td>\n",
              "      <td>0.315</td>\n",
              "    </tr>\n",
              "    <tr>\n",
              "      <th>4</th>\n",
              "      <td>0.346</td>\n",
              "      <td>138</td>\n",
              "      <td>578</td>\n",
              "      <td>509</td>\n",
              "      <td>84</td>\n",
              "      <td>176</td>\n",
              "      <td>24</td>\n",
              "      <td>0</td>\n",
              "      <td>11</td>\n",
              "      <td>233</td>\n",
              "      <td>...</td>\n",
              "      <td>35</td>\n",
              "      <td>145</td>\n",
              "      <td>124</td>\n",
              "      <td>1.17</td>\n",
              "      <td>10</td>\n",
              "      <td>0.82</td>\n",
              "      <td>3.89</td>\n",
              "      <td>0.112</td>\n",
              "      <td>90.7</td>\n",
              "      <td>0.300</td>\n",
              "    </tr>\n",
              "  </tbody>\n",
              "</table>\n",
              "<p>5 rows × 23 columns</p>\n",
              "</div>\n",
              "      <button class=\"colab-df-convert\" onclick=\"convertToInteractive('df-5304eff4-c374-4de7-a7ad-429c3b143313')\"\n",
              "              title=\"Convert this dataframe to an interactive table.\"\n",
              "              style=\"display:none;\">\n",
              "        \n",
              "  <svg xmlns=\"http://www.w3.org/2000/svg\" height=\"24px\"viewBox=\"0 0 24 24\"\n",
              "       width=\"24px\">\n",
              "    <path d=\"M0 0h24v24H0V0z\" fill=\"none\"/>\n",
              "    <path d=\"M18.56 5.44l.94 2.06.94-2.06 2.06-.94-2.06-.94-.94-2.06-.94 2.06-2.06.94zm-11 1L8.5 8.5l.94-2.06 2.06-.94-2.06-.94L8.5 2.5l-.94 2.06-2.06.94zm10 10l.94 2.06.94-2.06 2.06-.94-2.06-.94-.94-2.06-.94 2.06-2.06.94z\"/><path d=\"M17.41 7.96l-1.37-1.37c-.4-.4-.92-.59-1.43-.59-.52 0-1.04.2-1.43.59L10.3 9.45l-7.72 7.72c-.78.78-.78 2.05 0 2.83L4 21.41c.39.39.9.59 1.41.59.51 0 1.02-.2 1.41-.59l7.78-7.78 2.81-2.81c.8-.78.8-2.07 0-2.86zM5.41 20L4 18.59l7.72-7.72 1.47 1.35L5.41 20z\"/>\n",
              "  </svg>\n",
              "      </button>\n",
              "      \n",
              "  <style>\n",
              "    .colab-df-container {\n",
              "      display:flex;\n",
              "      flex-wrap:wrap;\n",
              "      gap: 12px;\n",
              "    }\n",
              "\n",
              "    .colab-df-convert {\n",
              "      background-color: #E8F0FE;\n",
              "      border: none;\n",
              "      border-radius: 50%;\n",
              "      cursor: pointer;\n",
              "      display: none;\n",
              "      fill: #1967D2;\n",
              "      height: 32px;\n",
              "      padding: 0 0 0 0;\n",
              "      width: 32px;\n",
              "    }\n",
              "\n",
              "    .colab-df-convert:hover {\n",
              "      background-color: #E2EBFA;\n",
              "      box-shadow: 0px 1px 2px rgba(60, 64, 67, 0.3), 0px 1px 3px 1px rgba(60, 64, 67, 0.15);\n",
              "      fill: #174EA6;\n",
              "    }\n",
              "\n",
              "    [theme=dark] .colab-df-convert {\n",
              "      background-color: #3B4455;\n",
              "      fill: #D2E3FC;\n",
              "    }\n",
              "\n",
              "    [theme=dark] .colab-df-convert:hover {\n",
              "      background-color: #434B5C;\n",
              "      box-shadow: 0px 1px 3px 1px rgba(0, 0, 0, 0.15);\n",
              "      filter: drop-shadow(0px 1px 2px rgba(0, 0, 0, 0.3));\n",
              "      fill: #FFFFFF;\n",
              "    }\n",
              "  </style>\n",
              "\n",
              "      <script>\n",
              "        const buttonEl =\n",
              "          document.querySelector('#df-5304eff4-c374-4de7-a7ad-429c3b143313 button.colab-df-convert');\n",
              "        buttonEl.style.display =\n",
              "          google.colab.kernel.accessAllowed ? 'block' : 'none';\n",
              "\n",
              "        async function convertToInteractive(key) {\n",
              "          const element = document.querySelector('#df-5304eff4-c374-4de7-a7ad-429c3b143313');\n",
              "          const dataTable =\n",
              "            await google.colab.kernel.invokeFunction('convertToInteractive',\n",
              "                                                     [key], {});\n",
              "          if (!dataTable) return;\n",
              "\n",
              "          const docLinkHtml = 'Like what you see? Visit the ' +\n",
              "            '<a target=\"_blank\" href=https://colab.research.google.com/notebooks/data_table.ipynb>data table notebook</a>'\n",
              "            + ' to learn more about interactive tables.';\n",
              "          element.innerHTML = '';\n",
              "          dataTable['output_type'] = 'display_data';\n",
              "          await google.colab.output.renderOutput(dataTable, element);\n",
              "          const docLink = document.createElement('div');\n",
              "          docLink.innerHTML = docLinkHtml;\n",
              "          element.appendChild(docLink);\n",
              "        }\n",
              "      </script>\n",
              "    </div>\n",
              "  </div>\n",
              "  "
            ]
          },
          "metadata": {},
          "execution_count": 40
        }
      ]
    },
    {
      "cell_type": "code",
      "source": [
        "#예측때 사용위한 선수명 데이터 프레임\n",
        "player_id=Y['선수명']"
      ],
      "metadata": {
        "id": "79MYre6f44A5"
      },
      "execution_count": 41,
      "outputs": []
    },
    {
      "cell_type": "code",
      "source": [
        "#홈런개수 와 상관계수가 0.4이상인 컬럼들 확인\n",
        "corr=X.corr()\n",
        "corr_columns=corr.index[abs(corr['HR'])>=0.4]\n",
        "corr_columns"
      ],
      "metadata": {
        "colab": {
          "base_uri": "https://localhost:8080/"
        },
        "id": "GDz1u0QX5GX-",
        "outputId": "70e220d7-4677-4239-f9ff-b4c7970e8ea1"
      },
      "execution_count": 42,
      "outputs": [
        {
          "output_type": "execute_result",
          "data": {
            "text/plain": [
              "Index(['HR', 'TB', 'RBI', 'SAC', 'XBH', 'GO', 'GO/AO', 'GW RBI', 'ISOP', 'XR',\n",
              "       'GPA'],\n",
              "      dtype='object')"
            ]
          },
          "metadata": {},
          "execution_count": 42
        }
      ]
    },
    {
      "cell_type": "code",
      "source": [
        "import matplotlib.pyplot as plt\n",
        "import seaborn as sns\n",
        "plt.figure(figsize=(13,10))\n",
        "heatmap=sns.heatmap(X[corr_columns].corr(),annot=True)"
      ],
      "metadata": {
        "colab": {
          "base_uri": "https://localhost:8080/",
          "height": 598
        },
        "id": "cGXzxjWZ5cXD",
        "outputId": "84d57c9a-20ed-4d2c-983c-c48eb014a5a8"
      },
      "execution_count": 43,
      "outputs": [
        {
          "output_type": "display_data",
          "data": {
            "text/plain": [
              "<Figure size 936x720 with 2 Axes>"
            ],
            "image/png": "[encoded data removed]"
          },
          "metadata": {
            "needs_background": "light"
          }
        }
      ]
    },
    {
      "cell_type": "code",
      "source": [
        "\n",
        "\n",
        "#칼럼 하나씩 살펴보고 이상치 제거 / 제외할 칼럼 선정 (Outlier remove)\n",
        "\n",
        "#pitchers=X[['AVG','G','R','2B','HR','RBI','SAC','SF','XBH','GO/AO','GW RBI','BB/K','P/PA','ISOP']]\n",
        "pitchers=X[['AVG', 'G', 'PA', 'AB', 'R', 'H', '2B', '3B', 'HR', 'TB', 'RBI', 'SAC',\n",
        "       'SF', 'XBH', 'GO', 'AO', 'GO/AO', 'GW RBI', 'BB/K', 'P/PA', 'ISOP',\n",
        "       'XR', 'GPA']]\n",
        "def plot_scatter_each_columns(df):\n",
        "  plt.rcParams['figure.figsize']=[20,16]\n",
        "  fig=plt.figure()\n",
        "  for i in range(len(df.columns)):\n",
        "    ax=fig.add_subplot(5,5,i+1)\n",
        "   # print(df.columns[i])\n",
        "    #print(df[df.columns[i]])\n",
        "    plt.scatter(df[df.columns[i]],df['HR'])\n",
        "    #plt.xlabel(df.columns[i])\n",
        "    plt.ylabel('HR')\n",
        "    ax.set_title(df.columns[i])\n",
        "  plt.show()\n"
      ],
      "metadata": {
        "id": "4NkVFEgm_-Yq"
      },
      "execution_count": 44,
      "outputs": []
    },
    {
      "cell_type": "code",
      "source": [
        "plot_scatter_each_columns(pitchers)"
      ],
      "metadata": {
        "colab": {
          "base_uri": "https://localhost:8080/",
          "height": 754
        },
        "id": "AFiZ6WY5BvVU",
        "outputId": "122e10f7-4a00-4463-e54d-b6fbdcb005ef"
      },
      "execution_count": 45,
      "outputs": [
        {
          "output_type": "display_data",
          "data": {
            "text/plain": [
              "<Figure size 1440x1152 with 23 Axes>"
            ],
            "image/png": "[encoded data removed]"
          },
          "metadata": {
            "needs_background": "light"
          }
        }
      ]
    },
    {
      "cell_type": "code",
      "source": [
        "#강한상관관계 가지는 컬럼들 => TB ,RBI, XBH, ISOP, GPA, XR "
      ],
      "metadata": {
        "id": "ZMN6yCs9i2sM"
      },
      "execution_count": 46,
      "outputs": []
    },
    {
      "cell_type": "code",
      "source": [
        "# 상관계수가 높은 변수들을 사용하면 다중공산성이 높아 문제를 일으킬 가능성이 높다\n",
        "#VIF 확인 -> 다른독립변수에 의존하는 변수 삭제\n",
        "#VIF 수치 높은 컬럼들 삭제해가면서 VIF가 변하는 모습 살펴보기\n",
        "#충분히 수치가 낮아지면 해당 컬럼 사용"
      ],
      "metadata": {
        "id": "5_Rpudm85-d7"
      },
      "execution_count": 47,
      "outputs": []
    },
    {
      "cell_type": "code",
      "source": [
        "#AB 타수 PA 타석  TB 루타  RBI 타점 SF 희플  GO/AO 땅볼/플라이 비율 GO 땅볼 AO 플라이 GW RBI 결승타 P/PA투구수/타석수 \n",
        "#XR 득점기여도 SAC 희생타 BB/K 볼삼비 GPA 출루율가중 ops XBH 장타개수\n",
        "from statsmodels.stats.outliers_influence import variance_inflation_factor\n",
        "\n",
        "vif_X=X\n",
        "vif_X=X.drop(['AVG','G','PA','AB','H','3B','SAC','SF','AO','GO','BB/K','P/PA'],axis=1)\n",
        "\n",
        "vif=pd.DataFrame()\n",
        "vif['VIF Factor']=[float(variance_inflation_factor(vif_X.values,i))for i in range(vif_X.shape[1])]\n",
        "vif['features']=vif_X.columns\n",
        "vif.sort_values('VIF Factor')\n",
        "vif"
      ],
      "metadata": {
        "colab": {
          "base_uri": "https://localhost:8080/",
          "height": 394
        },
        "id": "w4TG-_Db6UTv",
        "outputId": "af0b5ba8-eb8f-484f-88d4-8a6378bd5e93"
      },
      "execution_count": 48,
      "outputs": [
        {
          "output_type": "execute_result",
          "data": {
            "text/plain": [
              "     VIF Factor features\n",
              "0     74.543291        R\n",
              "1    316.563817       2B\n",
              "2    123.560482       HR\n",
              "3    893.800668       TB\n",
              "4     83.711944      RBI\n",
              "5   1905.717694      XBH\n",
              "6     12.878310    GO/AO\n",
              "7      9.840790   GW RBI\n",
              "8    607.766830     ISOP\n",
              "9    202.106561       XR\n",
              "10   463.401623      GPA"
            ],
            "text/html": [
              "\n",
              "  <div id=\"df-609f679a-871b-4e81-a1bb-09cf6fb6d6c7\">\n",
              "    <div class=\"colab-df-container\">\n",
              "      <div>\n",
              "<style scoped>\n",
              "    .dataframe tbody tr th:only-of-type {\n",
              "        vertical-align: middle;\n",
              "    }\n",
              "\n",
              "    .dataframe tbody tr th {\n",
              "        vertical-align: top;\n",
              "    }\n",
              "\n",
              "    .dataframe thead th {\n",
              "        text-align: right;\n",
              "    }\n",
              "</style>\n",
              "<table border=\"1\" class=\"dataframe\">\n",
              "  <thead>\n",
              "    <tr style=\"text-align: right;\">\n",
              "      <th></th>\n",
              "      <th>VIF Factor</th>\n",
              "      <th>features</th>\n",
              "    </tr>\n",
              "  </thead>\n",
              "  <tbody>\n",
              "    <tr>\n",
              "      <th>0</th>\n",
              "      <td>74.543291</td>\n",
              "      <td>R</td>\n",
              "    </tr>\n",
              "    <tr>\n",
              "      <th>1</th>\n",
              "      <td>316.563817</td>\n",
              "      <td>2B</td>\n",
              "    </tr>\n",
              "    <tr>\n",
              "      <th>2</th>\n",
              "      <td>123.560482</td>\n",
              "      <td>HR</td>\n",
              "    </tr>\n",
              "    <tr>\n",
              "      <th>3</th>\n",
              "      <td>893.800668</td>\n",
              "      <td>TB</td>\n",
              "    </tr>\n",
              "    <tr>\n",
              "      <th>4</th>\n",
              "      <td>83.711944</td>\n",
              "      <td>RBI</td>\n",
              "    </tr>\n",
              "    <tr>\n",
              "      <th>5</th>\n",
              "      <td>1905.717694</td>\n",
              "      <td>XBH</td>\n",
              "    </tr>\n",
              "    <tr>\n",
              "      <th>6</th>\n",
              "      <td>12.878310</td>\n",
              "      <td>GO/AO</td>\n",
              "    </tr>\n",
              "    <tr>\n",
              "      <th>7</th>\n",
              "      <td>9.840790</td>\n",
              "      <td>GW RBI</td>\n",
              "    </tr>\n",
              "    <tr>\n",
              "      <th>8</th>\n",
              "      <td>607.766830</td>\n",
              "      <td>ISOP</td>\n",
              "    </tr>\n",
              "    <tr>\n",
              "      <th>9</th>\n",
              "      <td>202.106561</td>\n",
              "      <td>XR</td>\n",
              "    </tr>\n",
              "    <tr>\n",
              "      <th>10</th>\n",
              "      <td>463.401623</td>\n",
              "      <td>GPA</td>\n",
              "    </tr>\n",
              "  </tbody>\n",
              "</table>\n",
              "</div>\n",
              "      <button class=\"colab-df-convert\" onclick=\"convertToInteractive('df-609f679a-871b-4e81-a1bb-09cf6fb6d6c7')\"\n",
              "              title=\"Convert this dataframe to an interactive table.\"\n",
              "              style=\"display:none;\">\n",
              "        \n",
              "  <svg xmlns=\"http://www.w3.org/2000/svg\" height=\"24px\"viewBox=\"0 0 24 24\"\n",
              "       width=\"24px\">\n",
              "    <path d=\"M0 0h24v24H0V0z\" fill=\"none\"/>\n",
              "    <path d=\"M18.56 5.44l.94 2.06.94-2.06 2.06-.94-2.06-.94-.94-2.06-.94 2.06-2.06.94zm-11 1L8.5 8.5l.94-2.06 2.06-.94-2.06-.94L8.5 2.5l-.94 2.06-2.06.94zm10 10l.94 2.06.94-2.06 2.06-.94-2.06-.94-.94-2.06-.94 2.06-2.06.94z\"/><path d=\"M17.41 7.96l-1.37-1.37c-.4-.4-.92-.59-1.43-.59-.52 0-1.04.2-1.43.59L10.3 9.45l-7.72 7.72c-.78.78-.78 2.05 0 2.83L4 21.41c.39.39.9.59 1.41.59.51 0 1.02-.2 1.41-.59l7.78-7.78 2.81-2.81c.8-.78.8-2.07 0-2.86zM5.41 20L4 18.59l7.72-7.72 1.47 1.35L5.41 20z\"/>\n",
              "  </svg>\n",
              "      </button>\n",
              "      \n",
              "  <style>\n",
              "    .colab-df-container {\n",
              "      display:flex;\n",
              "      flex-wrap:wrap;\n",
              "      gap: 12px;\n",
              "    }\n",
              "\n",
              "    .colab-df-convert {\n",
              "      background-color: #E8F0FE;\n",
              "      border: none;\n",
              "      border-radius: 50%;\n",
              "      cursor: pointer;\n",
              "      display: none;\n",
              "      fill: #1967D2;\n",
              "      height: 32px;\n",
              "      padding: 0 0 0 0;\n",
              "      width: 32px;\n",
              "    }\n",
              "\n",
              "    .colab-df-convert:hover {\n",
              "      background-color: #E2EBFA;\n",
              "      box-shadow: 0px 1px 2px rgba(60, 64, 67, 0.3), 0px 1px 3px 1px rgba(60, 64, 67, 0.15);\n",
              "      fill: #174EA6;\n",
              "    }\n",
              "\n",
              "    [theme=dark] .colab-df-convert {\n",
              "      background-color: #3B4455;\n",
              "      fill: #D2E3FC;\n",
              "    }\n",
              "\n",
              "    [theme=dark] .colab-df-convert:hover {\n",
              "      background-color: #434B5C;\n",
              "      box-shadow: 0px 1px 3px 1px rgba(0, 0, 0, 0.15);\n",
              "      filter: drop-shadow(0px 1px 2px rgba(0, 0, 0, 0.3));\n",
              "      fill: #FFFFFF;\n",
              "    }\n",
              "  </style>\n",
              "\n",
              "      <script>\n",
              "        const buttonEl =\n",
              "          document.querySelector('#df-609f679a-871b-4e81-a1bb-09cf6fb6d6c7 button.colab-df-convert');\n",
              "        buttonEl.style.display =\n",
              "          google.colab.kernel.accessAllowed ? 'block' : 'none';\n",
              "\n",
              "        async function convertToInteractive(key) {\n",
              "          const element = document.querySelector('#df-609f679a-871b-4e81-a1bb-09cf6fb6d6c7');\n",
              "          const dataTable =\n",
              "            await google.colab.kernel.invokeFunction('convertToInteractive',\n",
              "                                                     [key], {});\n",
              "          if (!dataTable) return;\n",
              "\n",
              "          const docLinkHtml = 'Like what you see? Visit the ' +\n",
              "            '<a target=\"_blank\" href=https://colab.research.google.com/notebooks/data_table.ipynb>data table notebook</a>'\n",
              "            + ' to learn more about interactive tables.';\n",
              "          element.innerHTML = '';\n",
              "          dataTable['output_type'] = 'display_data';\n",
              "          await google.colab.output.renderOutput(dataTable, element);\n",
              "          const docLink = document.createElement('div');\n",
              "          docLink.innerHTML = docLinkHtml;\n",
              "          element.appendChild(docLink);\n",
              "        }\n",
              "      </script>\n",
              "    </div>\n",
              "  </div>\n",
              "  "
            ]
          },
          "metadata": {},
          "execution_count": 48
        }
      ]
    },
    {
      "cell_type": "code",
      "source": [
        "#분석 컬럼 결정\n",
        "X=X.drop(['AVG','G','PA','AB','H','3B','SAC','SF','AO','GO','BB/K','P/PA'],axis=1)"
      ],
      "metadata": {
        "id": "ze3ts0ZAB9Vp"
      },
      "execution_count": 49,
      "outputs": []
    },
    {
      "cell_type": "code",
      "source": [
        "#타겟 데이터 확인\n",
        "\n",
        "sns.set()\n",
        "%matplotlib inline\n",
        "\n",
        "sns.distplot(X['HR'])"
      ],
      "metadata": {
        "colab": {
          "base_uri": "https://localhost:8080/",
          "height": 360
        },
        "id": "TfV_wqHPkOcm",
        "outputId": "de6fbe6f-f2ad-4e07-a942-bc5bf42c3e07"
      },
      "execution_count": 50,
      "outputs": [
        {
          "output_type": "stream",
          "name": "stderr",
          "text": [
            "/usr/local/lib/python3.8/dist-packages/seaborn/distributions.py:2619: FutureWarning: `distplot` is a deprecated function and will be removed in a future version. Please adapt your code to use either `displot` (a figure-level function with similar flexibility) or `histplot` (an axes-level function for histograms).\n",
            "  warnings.warn(msg, FutureWarning)\n"
          ]
        },
        {
          "output_type": "execute_result",
          "data": {
            "text/plain": [
              "<matplotlib.axes._subplots.AxesSubplot at 0x7fd2e08a69a0>"
            ]
          },
          "metadata": {},
          "execution_count": 50
        },
        {
          "output_type": "display_data",
          "data": {
            "text/plain": [
              "<Figure size 432x288 with 1 Axes>"
            ],
            "image/png": "[encoded data removed]"
          },
          "metadata": {
            "needs_background": "light"
          }
        }
      ]
    },
    {
      "cell_type": "code",
      "source": [
        "#로그 스케일링 진행\n",
        "#정규성을 높이고 분석(회귀분석 등)에서 정확한 값을 얻기 위함/데이터 간 편차를 줄여 왜도1(skewness)와 첨도2(Kurtosis)를 줄일 수 있기 때문에 정규성이 높아진다. \n",
        "\n",
        "#훈련시 타겟데이터는 X_result 에 따로 저장후 \n",
        "X_result=np.log1p(X['HR'])\n",
        "sns.displot(X_result)\n",
        "#X에서 HR데이터 삭제\n",
        "X=X.drop(['HR'],axis=1)\n",
        "\n",
        "print(X_result.head())\n",
        "print(X.head())"
      ],
      "metadata": {
        "colab": {
          "base_uri": "https://localhost:8080/",
          "height": 590
        },
        "id": "8fzbV-G7kpJi",
        "outputId": "f12e7d00-a71f-4cdd-a7d3-fd91c5b63bee"
      },
      "execution_count": 51,
      "outputs": [
        {
          "output_type": "stream",
          "name": "stdout",
          "text": [
            "0    3.465736\n",
            "1    3.178054\n",
            "2    1.386294\n",
            "3    3.178054\n",
            "4    2.484907\n",
            "Name: HR, dtype: float64\n",
            "    R  2B   TB  RBI  XBH  GO/AO  GW RBI   ISOP     XR    GPA\n",
            "0  99  46  338  144   79   0.77       9  0.276  136.4  0.372\n",
            "1  94  39  301  136   62   0.86      11  0.204  132.9  0.356\n",
            "2  98  20  196   41   27   1.10       1  0.082   84.3  0.306\n",
            "3  97  37  289  101   63   1.01      12  0.219   98.6  0.315\n",
            "4  84  24  233   90   35   1.17      10  0.112   90.7  0.300\n"
          ]
        },
        {
          "output_type": "display_data",
          "data": {
            "text/plain": [
              "<Figure size 360x360 with 1 Axes>"
            ],
            "image/png": "[encoded data removed]"
          },
          "metadata": {
            "needs_background": "light"
          }
        }
      ]
    },
    {
      "cell_type": "code",
      "source": [
        "print(X.columns,X.shape)\n",
        "print(Y.columns,Y.shape)"
      ],
      "metadata": {
        "colab": {
          "base_uri": "https://localhost:8080/"
        },
        "id": "VoFiFuI0mfTy",
        "outputId": "b2a753e8-e39c-486a-f586-f5e369e48bc3"
      },
      "execution_count": 52,
      "outputs": [
        {
          "output_type": "stream",
          "name": "stdout",
          "text": [
            "Index(['R', '2B', 'TB', 'RBI', 'XBH', 'GO/AO', 'GW RBI', 'ISOP', 'XR', 'GPA'], dtype='object') (326, 10)\n",
            "Index(['  Year', '선수명', '팀명', 'AVG', 'G', 'PA', 'AB', 'R', 'H', '2B', '3B',\n",
            "       'HR', 'TB', 'RBI', 'SAC', 'SF', 'XBH', 'GO', 'AO', 'GO/AO', 'GW RBI',\n",
            "       'BB/K', 'P/PA', 'ISOP', 'XR', 'GPA'],\n",
            "      dtype='object') (53, 26)\n"
          ]
        }
      ]
    },
    {
      "cell_type": "code",
      "source": [
        "#테스트 데이터도 똑같이 없애줘야함 \n",
        "Y_result=np.log1p(Y['HR'])\n",
        "Y=Y.drop(['  Year','HR','선수명', '팀명', 'AVG', 'G', 'PA', 'AB','3B',\n",
        "       'HR','SAC', 'SF','GO', 'AO','BB/K', 'P/PA'],axis=1)\n",
        "\n"
      ],
      "metadata": {
        "id": "ulpPx49XmxxU"
      },
      "execution_count": 53,
      "outputs": []
    },
    {
      "cell_type": "code",
      "source": [
        "Y=Y.drop(['H'],axis=1)\n",
        "print(X.columns,X.shape)\n",
        "print(Y.columns,Y.shape)"
      ],
      "metadata": {
        "colab": {
          "base_uri": "https://localhost:8080/"
        },
        "id": "NOCAG-eanmGz",
        "outputId": "56b6b3af-4cc1-4ee3-99b2-f27b66389a33"
      },
      "execution_count": 54,
      "outputs": [
        {
          "output_type": "stream",
          "name": "stdout",
          "text": [
            "Index(['R', '2B', 'TB', 'RBI', 'XBH', 'GO/AO', 'GW RBI', 'ISOP', 'XR', 'GPA'], dtype='object') (326, 10)\n",
            "Index(['R', '2B', 'TB', 'RBI', 'XBH', 'GO/AO', 'GW RBI', 'ISOP', 'XR', 'GPA'], dtype='object') (53, 10)\n"
          ]
        }
      ]
    },
    {
      "cell_type": "code",
      "source": [
        "#학습용 데이터 =>과거데이터와 예측할해의 데이터 합침\n",
        "df=pd.concat((X,Y))\n",
        "\n",
        "df.head()"
      ],
      "metadata": {
        "colab": {
          "base_uri": "https://localhost:8080/",
          "height": 206
        },
        "id": "ERQBR6zQqYVD",
        "outputId": "caf82201-af1f-4efe-b76f-e66ccbb6b53b"
      },
      "execution_count": 55,
      "outputs": [
        {
          "output_type": "execute_result",
          "data": {
            "text/plain": [
              "    R  2B   TB  RBI  XBH  GO/AO  GW RBI   ISOP     XR    GPA\n",
              "0  99  46  338  144   79   0.77       9  0.276  136.4  0.372\n",
              "1  94  39  301  136   62   0.86      11  0.204  132.9  0.356\n",
              "2  98  20  196   41   27   1.10       1  0.082   84.3  0.306\n",
              "3  97  37  289  101   63   1.01      12  0.219   98.6  0.315\n",
              "4  84  24  233   90   35   1.17      10  0.112   90.7  0.300"
            ],
            "text/html": [
              "\n",
              "  <div id=\"df-aeebc92b-cddb-4389-804d-37eac517c36f\">\n",
              "    <div class=\"colab-df-container\">\n",
              "      <div>\n",
              "<style scoped>\n",
              "    .dataframe tbody tr th:only-of-type {\n",
              "        vertical-align: middle;\n",
              "    }\n",
              "\n",
              "    .dataframe tbody tr th {\n",
              "        vertical-align: top;\n",
              "    }\n",
              "\n",
              "    .dataframe thead th {\n",
              "        text-align: right;\n",
              "    }\n",
              "</style>\n",
              "<table border=\"1\" class=\"dataframe\">\n",
              "  <thead>\n",
              "    <tr style=\"text-align: right;\">\n",
              "      <th></th>\n",
              "      <th>R</th>\n",
              "      <th>2B</th>\n",
              "      <th>TB</th>\n",
              "      <th>RBI</th>\n",
              "      <th>XBH</th>\n",
              "      <th>GO/AO</th>\n",
              "      <th>GW RBI</th>\n",
              "      <th>ISOP</th>\n",
              "      <th>XR</th>\n",
              "      <th>GPA</th>\n",
              "    </tr>\n",
              "  </thead>\n",
              "  <tbody>\n",
              "    <tr>\n",
              "      <th>0</th>\n",
              "      <td>99</td>\n",
              "      <td>46</td>\n",
              "      <td>338</td>\n",
              "      <td>144</td>\n",
              "      <td>79</td>\n",
              "      <td>0.77</td>\n",
              "      <td>9</td>\n",
              "      <td>0.276</td>\n",
              "      <td>136.4</td>\n",
              "      <td>0.372</td>\n",
              "    </tr>\n",
              "    <tr>\n",
              "      <th>1</th>\n",
              "      <td>94</td>\n",
              "      <td>39</td>\n",
              "      <td>301</td>\n",
              "      <td>136</td>\n",
              "      <td>62</td>\n",
              "      <td>0.86</td>\n",
              "      <td>11</td>\n",
              "      <td>0.204</td>\n",
              "      <td>132.9</td>\n",
              "      <td>0.356</td>\n",
              "    </tr>\n",
              "    <tr>\n",
              "      <th>2</th>\n",
              "      <td>98</td>\n",
              "      <td>20</td>\n",
              "      <td>196</td>\n",
              "      <td>41</td>\n",
              "      <td>27</td>\n",
              "      <td>1.10</td>\n",
              "      <td>1</td>\n",
              "      <td>0.082</td>\n",
              "      <td>84.3</td>\n",
              "      <td>0.306</td>\n",
              "    </tr>\n",
              "    <tr>\n",
              "      <th>3</th>\n",
              "      <td>97</td>\n",
              "      <td>37</td>\n",
              "      <td>289</td>\n",
              "      <td>101</td>\n",
              "      <td>63</td>\n",
              "      <td>1.01</td>\n",
              "      <td>12</td>\n",
              "      <td>0.219</td>\n",
              "      <td>98.6</td>\n",
              "      <td>0.315</td>\n",
              "    </tr>\n",
              "    <tr>\n",
              "      <th>4</th>\n",
              "      <td>84</td>\n",
              "      <td>24</td>\n",
              "      <td>233</td>\n",
              "      <td>90</td>\n",
              "      <td>35</td>\n",
              "      <td>1.17</td>\n",
              "      <td>10</td>\n",
              "      <td>0.112</td>\n",
              "      <td>90.7</td>\n",
              "      <td>0.300</td>\n",
              "    </tr>\n",
              "  </tbody>\n",
              "</table>\n",
              "</div>\n",
              "      <button class=\"colab-df-convert\" onclick=\"convertToInteractive('df-aeebc92b-cddb-4389-804d-37eac517c36f')\"\n",
              "              title=\"Convert this dataframe to an interactive table.\"\n",
              "              style=\"display:none;\">\n",
              "        \n",
              "  <svg xmlns=\"http://www.w3.org/2000/svg\" height=\"24px\"viewBox=\"0 0 24 24\"\n",
              "       width=\"24px\">\n",
              "    <path d=\"M0 0h24v24H0V0z\" fill=\"none\"/>\n",
              "    <path d=\"M18.56 5.44l.94 2.06.94-2.06 2.06-.94-2.06-.94-.94-2.06-.94 2.06-2.06.94zm-11 1L8.5 8.5l.94-2.06 2.06-.94-2.06-.94L8.5 2.5l-.94 2.06-2.06.94zm10 10l.94 2.06.94-2.06 2.06-.94-2.06-.94-.94-2.06-.94 2.06-2.06.94z\"/><path d=\"M17.41 7.96l-1.37-1.37c-.4-.4-.92-.59-1.43-.59-.52 0-1.04.2-1.43.59L10.3 9.45l-7.72 7.72c-.78.78-.78 2.05 0 2.83L4 21.41c.39.39.9.59 1.41.59.51 0 1.02-.2 1.41-.59l7.78-7.78 2.81-2.81c.8-.78.8-2.07 0-2.86zM5.41 20L4 18.59l7.72-7.72 1.47 1.35L5.41 20z\"/>\n",
              "  </svg>\n",
              "      </button>\n",
              "      \n",
              "  <style>\n",
              "    .colab-df-container {\n",
              "      display:flex;\n",
              "      flex-wrap:wrap;\n",
              "      gap: 12px;\n",
              "    }\n",
              "\n",
              "    .colab-df-convert {\n",
              "      background-color: #E8F0FE;\n",
              "      border: none;\n",
              "      border-radius: 50%;\n",
              "      cursor: pointer;\n",
              "      display: none;\n",
              "      fill: #1967D2;\n",
              "      height: 32px;\n",
              "      padding: 0 0 0 0;\n",
              "      width: 32px;\n",
              "    }\n",
              "\n",
              "    .colab-df-convert:hover {\n",
              "      background-color: #E2EBFA;\n",
              "      box-shadow: 0px 1px 2px rgba(60, 64, 67, 0.3), 0px 1px 3px 1px rgba(60, 64, 67, 0.15);\n",
              "      fill: #174EA6;\n",
              "    }\n",
              "\n",
              "    [theme=dark] .colab-df-convert {\n",
              "      background-color: #3B4455;\n",
              "      fill: #D2E3FC;\n",
              "    }\n",
              "\n",
              "    [theme=dark] .colab-df-convert:hover {\n",
              "      background-color: #434B5C;\n",
              "      box-shadow: 0px 1px 3px 1px rgba(0, 0, 0, 0.15);\n",
              "      filter: drop-shadow(0px 1px 2px rgba(0, 0, 0, 0.3));\n",
              "      fill: #FFFFFF;\n",
              "    }\n",
              "  </style>\n",
              "\n",
              "      <script>\n",
              "        const buttonEl =\n",
              "          document.querySelector('#df-aeebc92b-cddb-4389-804d-37eac517c36f button.colab-df-convert');\n",
              "        buttonEl.style.display =\n",
              "          google.colab.kernel.accessAllowed ? 'block' : 'none';\n",
              "\n",
              "        async function convertToInteractive(key) {\n",
              "          const element = document.querySelector('#df-aeebc92b-cddb-4389-804d-37eac517c36f');\n",
              "          const dataTable =\n",
              "            await google.colab.kernel.invokeFunction('convertToInteractive',\n",
              "                                                     [key], {});\n",
              "          if (!dataTable) return;\n",
              "\n",
              "          const docLinkHtml = 'Like what you see? Visit the ' +\n",
              "            '<a target=\"_blank\" href=https://colab.research.google.com/notebooks/data_table.ipynb>data table notebook</a>'\n",
              "            + ' to learn more about interactive tables.';\n",
              "          element.innerHTML = '';\n",
              "          dataTable['output_type'] = 'display_data';\n",
              "          await google.colab.output.renderOutput(dataTable, element);\n",
              "          const docLink = document.createElement('div');\n",
              "          docLink.innerHTML = docLinkHtml;\n",
              "          element.appendChild(docLink);\n",
              "        }\n",
              "      </script>\n",
              "    </div>\n",
              "  </div>\n",
              "  "
            ]
          },
          "metadata": {},
          "execution_count": 55
        }
      ]
    },
    {
      "cell_type": "code",
      "source": [
        "print(df.shape) \n",
        "#과거 데이터들의 홈런개수\n",
        "print(X_result.shape)\n",
        "#예측 해야할 정답 2022홈런개수\n",
        "print(Y_result.shape)"
      ],
      "metadata": {
        "colab": {
          "base_uri": "https://localhost:8080/"
        },
        "id": "j32grvVPq-FI",
        "outputId": "f268cbd7-c908-440e-9fe3-2a8d0fae960a"
      },
      "execution_count": 56,
      "outputs": [
        {
          "output_type": "stream",
          "name": "stdout",
          "text": [
            "(379, 10)\n",
            "(326,)\n",
            "(53,)\n"
          ]
        }
      ]
    },
    {
      "cell_type": "code",
      "source": [
        "from scipy.stats import skew\n",
        "\n",
        "skewness = df.apply(lambda x:skew(x.dropna())).sort_values(ascending=False)"
      ],
      "metadata": {
        "id": "1cOzLEjYn5RF"
      },
      "execution_count": 57,
      "outputs": []
    },
    {
      "cell_type": "code",
      "source": [
        "high_skewness=skewness[abs(skewness)>1]\n",
        "skew_feats=high_skewness.index\n",
        "print(high_skewness)\n",
        "print(skew_feats)"
      ],
      "metadata": {
        "colab": {
          "base_uri": "https://localhost:8080/"
        },
        "id": "Eio4b3IOoNTU",
        "outputId": "87b5abbb-a77c-42c2-b90a-920c18269aa1"
      },
      "execution_count": 58,
      "outputs": [
        {
          "output_type": "stream",
          "name": "stdout",
          "text": [
            "GO/AO    3.284661\n",
            "dtype: float64\n",
            "Index(['GO/AO'], dtype='object')\n"
          ]
        }
      ]
    },
    {
      "cell_type": "code",
      "source": [
        "df=df.drop(['GO/AO'],axis=1)\n",
        "print(df.head())"
      ],
      "metadata": {
        "colab": {
          "base_uri": "https://localhost:8080/"
        },
        "id": "msdLd8ToqIUY",
        "outputId": "12d920c8-29b6-49ef-9d0b-048d8adaebde"
      },
      "execution_count": 59,
      "outputs": [
        {
          "output_type": "stream",
          "name": "stdout",
          "text": [
            "    R  2B   TB  RBI  XBH  GW RBI   ISOP     XR    GPA\n",
            "0  99  46  338  144   79       9  0.276  136.4  0.372\n",
            "1  94  39  301  136   62      11  0.204  132.9  0.356\n",
            "2  98  20  196   41   27       1  0.082   84.3  0.306\n",
            "3  97  37  289  101   63      12  0.219   98.6  0.315\n",
            "4  84  24  233   90   35      10  0.112   90.7  0.300\n"
          ]
        }
      ]
    },
    {
      "cell_type": "code",
      "source": [
        "X=X.drop(['GO/AO'],axis=1)\n",
        "Y=Y.drop(['GO/AO'],axis=1)\n",
        "print(Y.head())\n",
        "print(Y.shape)"
      ],
      "metadata": {
        "colab": {
          "base_uri": "https://localhost:8080/"
        },
        "id": "Dx2M5rVAsPJj",
        "outputId": "301d9484-6668-4ea4-fa3d-546c359d6d66"
      },
      "execution_count": 60,
      "outputs": [
        {
          "output_type": "stream",
          "name": "stdout",
          "text": [
            "     R  2B   TB  RBI  XBH  GW RBI   ISOP     XR    GPA\n",
            "0   85  36  318  113   69      15  0.226  120.2  0.333\n",
            "1  102  33  317  109   65      12  0.223  114.4  0.326\n",
            "2   52  18  187   61   29       7  0.123   72.1  0.298\n",
            "3   53  23  271  101   46       9  0.170   90.5  0.296\n",
            "4   92  39  286   97   62       9  0.188  110.9  0.308\n",
            "(53, 9)\n"
          ]
        }
      ]
    },
    {
      "cell_type": "code",
      "source": [
        "X_train=X\n",
        "X_test=Y\n",
        "\n",
        "X_train.shape\n",
        "X_test.shape"
      ],
      "metadata": {
        "id": "8gm88Dr2r02p",
        "colab": {
          "base_uri": "https://localhost:8080/"
        },
        "outputId": "83222ed3-8eee-4ee9-8baf-b5c4bcf24265"
      },
      "execution_count": 64,
      "outputs": [
        {
          "output_type": "execute_result",
          "data": {
            "text/plain": [
              "(53, 9)"
            ]
          },
          "metadata": {},
          "execution_count": 64
        }
      ]
    },
    {
      "cell_type": "markdown",
      "source": [
        "#**Modeling&Prediction**"
      ],
      "metadata": {
        "id": "zdF-jVUwlnvJ"
      }
    },
    {
      "cell_type": "code",
      "source": [
        "#사용 모델\n",
        "from sklearn.model_selection import KFold, cross_val_score, GridSearchCV\n",
        "from sklearn.metrics import mean_squared_error\n",
        "from sklearn.pipeline import make_pipeline\n",
        "from sklearn.ensemble import RandomForestRegressor, GradientBoostingRegressor\n",
        "from xgboost import XGBRegressor\n",
        "from lightgbm import LGBMRegressor\n",
        "from sklearn.linear_model import ElasticNet, Lasso, LinearRegression"
      ],
      "metadata": {
        "id": "FrYkWBcNrpCP"
      },
      "execution_count": 91,
      "outputs": []
    },
    {
      "cell_type": "code",
      "source": [
        "#학습전 데이터 스케일링 진행\n",
        "#중앙값과 IQR 사용하여 아웃라이어의 영향 최소화\n",
        "from sklearn.preprocessing import RobustScaler\n",
        "\n",
        "\n",
        "rs=RobustScaler()\n",
        "rs_Xtrain=rs.fit_transform(X_train) #학습X데이터\n",
        "rs_Xtest=rs.transform(X_test) #학습 검증 X데이터\n",
        "\n"
      ],
      "metadata": {
        "id": "ezlEKK8NluSD"
      },
      "execution_count": 92,
      "outputs": []
    },
    {
      "cell_type": "code",
      "source": [
        "#KFold test\n",
        "\n",
        "kfold=KFold(n_splits=5)\n",
        "\n",
        "random_state=42\n",
        "reg=[]\n",
        "\n",
        "reg.append(Lasso(random_state=random_state))\n",
        "reg.append(ElasticNet(random_state=random_state))\n",
        "reg.append(RandomForestRegressor(random_state=random_state))\n",
        "reg.append(GradientBoostingRegressor(random_state=random_state))\n",
        "reg.append(XGBRegressor(silent=True,random_state=random_state))\n",
        "reg.append(LGBMRegressor(verbose_eval=False,random_state=random_state))\n",
        "\n",
        "reg_results=[]\n",
        "\n",
        "for regre in reg:\n",
        "  reg_results.append(np.mean(np.sqrt(-cross_val_score(regre,rs_Xtrain,y=X_result,scoring='neg_mean_squared_error',cv=kfold,n_jobs=-1))))"
      ],
      "metadata": {
        "id": "wDlrKVYQs5Sg"
      },
      "execution_count": 93,
      "outputs": []
    },
    {
      "cell_type": "code",
      "source": [
        "reg_means=[]\n",
        "reg_std=[]\n",
        "\n",
        "for reg_result in reg_results:\n",
        "  reg_means.append(reg_result.mean())\n",
        "  reg_std.append(reg_result.std())"
      ],
      "metadata": {
        "id": "daDTZTWMuc72"
      },
      "execution_count": 94,
      "outputs": []
    },
    {
      "cell_type": "code",
      "source": [
        "#Lasso, ElasticNet, RandomForest, GradientBoosting, XGBoost, LGBM에 대한 교차검증결과\n",
        "# 평균이 낮을수록 좋음\n",
        "reg_re=pd.DataFrame({\"CrossValMeans\":reg_means,\"CrossValerrors\": reg_std})\n",
        "reg_re"
      ],
      "metadata": {
        "colab": {
          "base_uri": "https://localhost:8080/",
          "height": 237
        },
        "id": "3vvwzSQguwsI",
        "outputId": "ccbc503f-e442-452a-cc08-63ae6cd27d38"
      },
      "execution_count": 95,
      "outputs": [
        {
          "output_type": "execute_result",
          "data": {
            "text/plain": [
              "   CrossValMeans  CrossValerrors\n",
              "0       0.802726             0.0\n",
              "1       0.802726             0.0\n",
              "2       0.211254             0.0\n",
              "3       0.206055             0.0\n",
              "4       0.209700             0.0\n",
              "5       0.215040             0.0"
            ],
            "text/html": [
              "\n",
              "  <div id=\"df-460d31ec-3725-4471-933f-4ee389bc8286\">\n",
              "    <div class=\"colab-df-container\">\n",
              "      <div>\n",
              "<style scoped>\n",
              "    .dataframe tbody tr th:only-of-type {\n",
              "        vertical-align: middle;\n",
              "    }\n",
              "\n",
              "    .dataframe tbody tr th {\n",
              "        vertical-align: top;\n",
              "    }\n",
              "\n",
              "    .dataframe thead th {\n",
              "        text-align: right;\n",
              "    }\n",
              "</style>\n",
              "<table border=\"1\" class=\"dataframe\">\n",
              "  <thead>\n",
              "    <tr style=\"text-align: right;\">\n",
              "      <th></th>\n",
              "      <th>CrossValMeans</th>\n",
              "      <th>CrossValerrors</th>\n",
              "    </tr>\n",
              "  </thead>\n",
              "  <tbody>\n",
              "    <tr>\n",
              "      <th>0</th>\n",
              "      <td>0.802726</td>\n",
              "      <td>0.0</td>\n",
              "    </tr>\n",
              "    <tr>\n",
              "      <th>1</th>\n",
              "      <td>0.802726</td>\n",
              "      <td>0.0</td>\n",
              "    </tr>\n",
              "    <tr>\n",
              "      <th>2</th>\n",
              "      <td>0.211254</td>\n",
              "      <td>0.0</td>\n",
              "    </tr>\n",
              "    <tr>\n",
              "      <th>3</th>\n",
              "      <td>0.206055</td>\n",
              "      <td>0.0</td>\n",
              "    </tr>\n",
              "    <tr>\n",
              "      <th>4</th>\n",
              "      <td>0.209700</td>\n",
              "      <td>0.0</td>\n",
              "    </tr>\n",
              "    <tr>\n",
              "      <th>5</th>\n",
              "      <td>0.215040</td>\n",
              "      <td>0.0</td>\n",
              "    </tr>\n",
              "  </tbody>\n",
              "</table>\n",
              "</div>\n",
              "      <button class=\"colab-df-convert\" onclick=\"convertToInteractive('df-460d31ec-3725-4471-933f-4ee389bc8286')\"\n",
              "              title=\"Convert this dataframe to an interactive table.\"\n",
              "              style=\"display:none;\">\n",
              "        \n",
              "  <svg xmlns=\"http://www.w3.org/2000/svg\" height=\"24px\"viewBox=\"0 0 24 24\"\n",
              "       width=\"24px\">\n",
              "    <path d=\"M0 0h24v24H0V0z\" fill=\"none\"/>\n",
              "    <path d=\"M18.56 5.44l.94 2.06.94-2.06 2.06-.94-2.06-.94-.94-2.06-.94 2.06-2.06.94zm-11 1L8.5 8.5l.94-2.06 2.06-.94-2.06-.94L8.5 2.5l-.94 2.06-2.06.94zm10 10l.94 2.06.94-2.06 2.06-.94-2.06-.94-.94-2.06-.94 2.06-2.06.94z\"/><path d=\"M17.41 7.96l-1.37-1.37c-.4-.4-.92-.59-1.43-.59-.52 0-1.04.2-1.43.59L10.3 9.45l-7.72 7.72c-.78.78-.78 2.05 0 2.83L4 21.41c.39.39.9.59 1.41.59.51 0 1.02-.2 1.41-.59l7.78-7.78 2.81-2.81c.8-.78.8-2.07 0-2.86zM5.41 20L4 18.59l7.72-7.72 1.47 1.35L5.41 20z\"/>\n",
              "  </svg>\n",
              "      </button>\n",
              "      \n",
              "  <style>\n",
              "    .colab-df-container {\n",
              "      display:flex;\n",
              "      flex-wrap:wrap;\n",
              "      gap: 12px;\n",
              "    }\n",
              "\n",
              "    .colab-df-convert {\n",
              "      background-color: #E8F0FE;\n",
              "      border: none;\n",
              "      border-radius: 50%;\n",
              "      cursor: pointer;\n",
              "      display: none;\n",
              "      fill: #1967D2;\n",
              "      height: 32px;\n",
              "      padding: 0 0 0 0;\n",
              "      width: 32px;\n",
              "    }\n",
              "\n",
              "    .colab-df-convert:hover {\n",
              "      background-color: #E2EBFA;\n",
              "      box-shadow: 0px 1px 2px rgba(60, 64, 67, 0.3), 0px 1px 3px 1px rgba(60, 64, 67, 0.15);\n",
              "      fill: #174EA6;\n",
              "    }\n",
              "\n",
              "    [theme=dark] .colab-df-convert {\n",
              "      background-color: #3B4455;\n",
              "      fill: #D2E3FC;\n",
              "    }\n",
              "\n",
              "    [theme=dark] .colab-df-convert:hover {\n",
              "      background-color: #434B5C;\n",
              "      box-shadow: 0px 1px 3px 1px rgba(0, 0, 0, 0.15);\n",
              "      filter: drop-shadow(0px 1px 2px rgba(0, 0, 0, 0.3));\n",
              "      fill: #FFFFFF;\n",
              "    }\n",
              "  </style>\n",
              "\n",
              "      <script>\n",
              "        const buttonEl =\n",
              "          document.querySelector('#df-460d31ec-3725-4471-933f-4ee389bc8286 button.colab-df-convert');\n",
              "        buttonEl.style.display =\n",
              "          google.colab.kernel.accessAllowed ? 'block' : 'none';\n",
              "\n",
              "        async function convertToInteractive(key) {\n",
              "          const element = document.querySelector('#df-460d31ec-3725-4471-933f-4ee389bc8286');\n",
              "          const dataTable =\n",
              "            await google.colab.kernel.invokeFunction('convertToInteractive',\n",
              "                                                     [key], {});\n",
              "          if (!dataTable) return;\n",
              "\n",
              "          const docLinkHtml = 'Like what you see? Visit the ' +\n",
              "            '<a target=\"_blank\" href=https://colab.research.google.com/notebooks/data_table.ipynb>data table notebook</a>'\n",
              "            + ' to learn more about interactive tables.';\n",
              "          element.innerHTML = '';\n",
              "          dataTable['output_type'] = 'display_data';\n",
              "          await google.colab.output.renderOutput(dataTable, element);\n",
              "          const docLink = document.createElement('div');\n",
              "          docLink.innerHTML = docLinkHtml;\n",
              "          element.appendChild(docLink);\n",
              "        }\n",
              "      </script>\n",
              "    </div>\n",
              "  </div>\n",
              "  "
            ]
          },
          "metadata": {},
          "execution_count": 95
        }
      ]
    },
    {
      "cell_type": "code",
      "source": [
        "# 모델은  RandomForest, GradientBoosting, XGBoost, LGBM 모델사용"
      ],
      "metadata": {
        "id": "-fH6GUkZvH6j"
      },
      "execution_count": 70,
      "outputs": []
    },
    {
      "cell_type": "code",
      "source": [
        "GBC=GradientBoostingRegressor()\n",
        "\n",
        "\n",
        "params={\n",
        "    'n_estimators':[30,50,100],\n",
        "    'learning_rate':[0.1,0.01,0.2],\n",
        "    'max_depth':[3,4,5],\n",
        "    'min_samples_leaf':[1,5,10],\n",
        "    'max_features':[0.3,0.2,0.15]\n",
        "}\n",
        "\n",
        "grid_GBC=GridSearchCV(GBC,param_grid=params,scoring='neg_mean_squared_error',cv=kfold,n_jobs=-1,verbose=1)\n",
        "#GBC.get_params().keys()\n",
        "#하이퍼 파라미터 튜닝하는 값을 잘못 넣은줄 알았는데 올바르지않은 파라미터 이름(오타)였음 \n",
        "grid_GBC.fit(X_train,X_result)\n",
        "\n",
        "print(grid_GBC.best_estimator_)\n",
        "print(grid_GBC.best_score_)\n",
        "\n"
      ],
      "metadata": {
        "colab": {
          "base_uri": "https://localhost:8080/"
        },
        "id": "ExsqC0Mc0IoJ",
        "outputId": "65bf65f0-27b6-4dee-a579-f312a7566805"
      },
      "execution_count": 96,
      "outputs": [
        {
          "output_type": "stream",
          "name": "stdout",
          "text": [
            "Fitting 5 folds for each of 243 candidates, totalling 1215 fits\n",
            "GradientBoostingRegressor(max_depth=4, max_features=0.3, min_samples_leaf=5)\n",
            "-0.04850807106083093\n"
          ]
        }
      ]
    },
    {
      "cell_type": "code",
      "source": [
        "RF=RandomForestRegressor()\n",
        "\n",
        "params={\n",
        "    'n_estimators':[30,50,100],\n",
        "    'min_samples_leaf':[1,5,10],\n",
        "    'max_features':[0.3,0.2,0.15],\n",
        "    'max_depth':[3,4,5]\n",
        "    \n",
        "}\n",
        "\n",
        "grid_RF=GridSearchCV(RF,param_grid=params,scoring='neg_mean_squared_error',cv=kfold,n_jobs=-1,verbose=1)\n",
        "grid_RF.fit(X_train,X_result)\n",
        "\n",
        "\n",
        "print(grid_RF.best_params_)\n",
        "print(grid_RF.best_estimator_)\n",
        "print(grid_RF.best_score_)"
      ],
      "metadata": {
        "colab": {
          "base_uri": "https://localhost:8080/"
        },
        "id": "TJ3Td1gP5TKP",
        "outputId": "e26ec6f0-db8d-47f2-acfb-ef9fcdd60606"
      },
      "execution_count": 97,
      "outputs": [
        {
          "output_type": "stream",
          "name": "stdout",
          "text": [
            "Fitting 5 folds for each of 81 candidates, totalling 405 fits\n",
            "{'max_depth': 5, 'max_features': 0.3, 'min_samples_leaf': 1, 'n_estimators': 50}\n",
            "RandomForestRegressor(max_depth=5, max_features=0.3, n_estimators=50)\n",
            "-0.07369977107589865\n"
          ]
        }
      ]
    },
    {
      "cell_type": "code",
      "source": [
        "XGB=XGBRegressor()\n",
        "\n",
        "params={\n",
        "     'n_estimators':[30,50,100],\n",
        "     'max_depth':[3,4,5],\n",
        "     'learning_rate':[0.1,0.01,0.2], #학습 단계별로 이전 결과를 얼마나 반영할지 설정한다. 일반적으로는 0.01 ~ 0.2 사이의 값\n",
        "     'subsample': [0.6, 0.7, 1.0],# 각 트리마다 데이터 샘플링 비율 over-fitting방지 일반적으로 0.5 ~ 1을 사용\n",
        "     'colsample_bytree' : [0.3,0.5,0.7],#각 트리마다 feature 샘플링 비율 일반적으로 0.5 ~ 1을 사용한다.\n",
        "     'scale_pos_weight' : [0.5,1], #데이터가 불균형 할때 사용 보통은 음성 데이터 수 / 양성 데이터 수 값으로 한다.\n",
        "     'reg_alpha': [0,0.05,0.0005] #규제(Lasso)\n",
        "\n",
        "}\n",
        "\n",
        "grid_XGB=GridSearchCV(XGB,param_grid=params,scoring='neg_mean_squared_error',cv=kfold,n_jobs=-1,verbose=1)\n",
        "grid_XGB.fit(X_train,X_result)\n",
        "\n",
        "print(grid_XGB.best_params_)\n",
        "print(grid_XGB.best_estimator_)\n",
        "print(grid_XGB.best_score_)"
      ],
      "metadata": {
        "colab": {
          "base_uri": "https://localhost:8080/"
        },
        "id": "V_jp9E588IER",
        "outputId": "1ea103da-bbea-4871-c42c-8afccf5aeee0"
      },
      "execution_count": 98,
      "outputs": [
        {
          "output_type": "stream",
          "name": "stdout",
          "text": [
            "Fitting 5 folds for each of 1458 candidates, totalling 7290 fits\n",
            "[15:32:50] WARNING: /workspace/src/objective/regression_obj.cu:152: reg:linear is now deprecated in favor of reg:squarederror.\n",
            "{'colsample_bytree': 0.7, 'learning_rate': 0.1, 'max_depth': 3, 'n_estimators': 100, 'reg_alpha': 0.05, 'scale_pos_weight': 0.5, 'subsample': 0.7}\n",
            "XGBRegressor(colsample_bytree=0.7, reg_alpha=0.05, scale_pos_weight=0.5,\n",
            "             subsample=0.7)\n",
            "-0.04194868399584\n"
          ]
        }
      ]
    },
    {
      "cell_type": "code",
      "source": [
        "LGBM=LGBMRegressor()\n",
        "\n",
        "params={\n",
        "    'n_estimators':[30,50,100],\n",
        "     'max_depth':[3,4,5,10,15],\n",
        "     'learning_rate':[0.1,0.01,0.2],\n",
        "     'num_leaves': [10, 30, 50],\n",
        "     'min_split_gain': [0.1, 0.2, 0.3],\n",
        "\n",
        "}\n",
        "\n",
        "grid_LGBM=GridSearchCV(LGBM,param_grid=params,scoring='neg_mean_squared_error',cv=kfold,n_jobs=-1,verbose=1)\n",
        "grid_LGBM.fit(X_train,X_result)\n",
        "\n",
        "print(grid_LGBM.best_params_)\n",
        "print(grid_LGBM.best_estimator_)\n",
        "print(grid_LGBM.best_score_)"
      ],
      "metadata": {
        "colab": {
          "base_uri": "https://localhost:8080/"
        },
        "id": "wh1TQ4ri-FPt",
        "outputId": "c8f1f473-0856-4d2a-ce89-c4dc47c1ca22"
      },
      "execution_count": 99,
      "outputs": [
        {
          "output_type": "stream",
          "name": "stdout",
          "text": [
            "Fitting 5 folds for each of 405 candidates, totalling 2025 fits\n",
            "{'learning_rate': 0.2, 'max_depth': 4, 'min_split_gain': 0.1, 'n_estimators': 30, 'num_leaves': 10}\n",
            "LGBMRegressor(learning_rate=0.2, max_depth=4, min_split_gain=0.1,\n",
            "              n_estimators=30, num_leaves=10)\n",
            "-0.05131073256293559\n"
          ]
        }
      ]
    }
  ]
}